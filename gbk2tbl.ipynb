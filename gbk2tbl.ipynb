{
  "nbformat": 4,
  "nbformat_minor": 0,
  "metadata": {
    "colab": {
      "name": "Untitled17.ipynb",
      "provenance": [],
      "include_colab_link": true
    },
    "kernelspec": {
      "name": "python3",
      "display_name": "Python 3"
    }
  },
  "cells": [
    {
      "cell_type": "markdown",
      "metadata": {
        "id": "view-in-github",
        "colab_type": "text"
      },
      "source": [
        "<a href=\"https://colab.research.google.com/github/mgg43err/pytho2to3/blob/master/gbk2tbl.ipynb\" target=\"_parent\"><img src=\"https://colab.research.google.com/assets/colab-badge.svg\" alt=\"Open In Colab\"/></a>"
      ]
    },
    {
      "cell_type": "code",
      "metadata": {
        "id": "JkyOVR8wnMIS",
        "colab_type": "code",
        "outputId": "6ab16470-b3d0-44ed-d84a-76c88a79994a",
        "colab": {
          "base_uri": "https://localhost:8080/",
          "height": 139
        }
      },
      "source": [
        "pip install biopython "
      ],
      "execution_count": 1,
      "outputs": [
        {
          "output_type": "stream",
          "text": [
            "Collecting biopython\n",
            "\u001b[?25l  Downloading https://files.pythonhosted.org/packages/ed/77/de3ba8f3d3015455f5df859c082729198ee6732deaeb4b87b9cfbfbaafe3/biopython-1.74-cp36-cp36m-manylinux1_x86_64.whl (2.2MB)\n",
            "\u001b[K     |████████████████████████████████| 2.2MB 2.8MB/s \n",
            "\u001b[?25hRequirement already satisfied: numpy in /usr/local/lib/python3.6/dist-packages (from biopython) (1.17.3)\n",
            "Installing collected packages: biopython\n",
            "Successfully installed biopython-1.74\n"
          ],
          "name": "stdout"
        }
      ]
    },
    {
      "cell_type": "code",
      "metadata": {
        "id": "w2LO9NCynN5Y",
        "colab_type": "code",
        "outputId": "60cb7406-5375-4513-dd21-70f7d3dbb146",
        "colab": {
          "base_uri": "https://localhost:8080/",
          "height": 326
        }
      },
      "source": [
        "pip install geneparse\n"
      ],
      "execution_count": 2,
      "outputs": [
        {
          "output_type": "stream",
          "text": [
            "Collecting geneparse\n",
            "\u001b[?25l  Downloading https://files.pythonhosted.org/packages/1e/c5/6786995a67c20296cc6b86a3cc9ae31a177e01bbc4e80f7e87b6e9f9e748/geneparse-0.7.5-py3-none-any.whl (146kB)\n",
            "\u001b[K     |████████████████████████████████| 153kB 2.8MB/s \n",
            "\u001b[?25hRequirement already satisfied: setuptools>=26.1.0 in /usr/local/lib/python3.6/dist-packages (from geneparse) (41.4.0)\n",
            "Collecting pyplink>=1.3.4\n",
            "  Downloading https://files.pythonhosted.org/packages/3d/e6/d89a49dfead2e9fa0b96dc6122c0f60a03ffbe86e4d3bf29cc3e912e9e3f/pyplink-1.3.5-py2.py3-none-any.whl\n",
            "Requirement already satisfied: numpy>=1.11.0 in /usr/local/lib/python3.6/dist-packages (from geneparse) (1.17.3)\n",
            "Requirement already satisfied: biopython>=1.68 in /usr/local/lib/python3.6/dist-packages (from geneparse) (1.74)\n",
            "Collecting pybgen>=0.5.0\n",
            "\u001b[?25l  Downloading https://files.pythonhosted.org/packages/c0/24/d8e4512f171285d745fd69814368d7995b06af5e418917d473c9c39632c3/pybgen-0.6.0-py2.py3-none-any.whl (7.5MB)\n",
            "\u001b[K     |████████████████████████████████| 7.5MB 50.2MB/s \n",
            "\u001b[?25hRequirement already satisfied: pandas>=0.19.0 in /usr/local/lib/python3.6/dist-packages (from geneparse) (0.25.2)\n",
            "Requirement already satisfied: six>=1.9.0 in /usr/local/lib/python3.6/dist-packages (from pyplink>=1.3.4->geneparse) (1.12.0)\n",
            "Requirement already satisfied: pytz>=2017.2 in /usr/local/lib/python3.6/dist-packages (from pandas>=0.19.0->geneparse) (2018.9)\n",
            "Requirement already satisfied: python-dateutil>=2.6.1 in /usr/local/lib/python3.6/dist-packages (from pandas>=0.19.0->geneparse) (2.6.1)\n",
            "Installing collected packages: pyplink, pybgen, geneparse\n",
            "Successfully installed geneparse-0.7.5 pybgen-0.6.0 pyplink-1.3.5\n"
          ],
          "name": "stdout"
        }
      ]
    },
    {
      "cell_type": "code",
      "metadata": {
        "id": "eHYM1QE7nYBd",
        "colab_type": "code",
        "outputId": "d0e307d2-7b08-4adb-b10c-1008423a4d68",
        "colab": {
          "base_uri": "https://localhost:8080/",
          "height": 34
        }
      },
      "source": [
        "import Bio\n",
        "print(Bio.__version__)"
      ],
      "execution_count": 3,
      "outputs": [
        {
          "output_type": "stream",
          "text": [
            "1.74\n"
          ],
          "name": "stdout"
        }
      ]
    },
    {
      "cell_type": "code",
      "metadata": {
        "id": "Sa45CeZuncOs",
        "colab_type": "code",
        "colab": {
          "base_uri": "https://localhost:8080/",
          "height": 34
        },
        "outputId": "8e501e77-4aba-4453-885f-b62c750a9082"
      },
      "source": [
        "import sys\n",
        "from Bio import SeqIO\n",
        "SeqIO.convert(sys.stdin, \"embl\", sys.stdout, \"fasta\")"
      ],
      "execution_count": 4,
      "outputs": [
        {
          "output_type": "execute_result",
          "data": {
            "text/plain": [
              "0"
            ]
          },
          "metadata": {
            "tags": []
          },
          "execution_count": 4
        }
      ]
    },
    {
      "cell_type": "code",
      "metadata": {
        "id": "9CpoYCl2oWJR",
        "colab_type": "code",
        "outputId": "dc18165c-7e77-4973-a933-49b1745a1e3c",
        "colab": {
          "base_uri": "https://localhost:8080/",
          "height": 231
        }
      },
      "source": [
        "\n",
        "import os, sys, platform\n",
        "import os.path\n",
        "import argparse\n",
        "from Bio import SeqIO\n",
        "from geneparse import *\n",
        "def createParser():\n",
        "  parser = argparse.ArgumentParser(\n",
        "      prog='Genbank to .tbl converter',\n",
        "      usage='\\n%(prog)s <input_file> [options]',\n",
        "      description = '''This script allows to convert genbank file into .tbl file format\n",
        "      Requires Biopython 1.64 (or newer). Use '>' (stdout) to create a .tbl file''',\n",
        "      epilog='''(c) Aliaksandr Damienikan, 2015.'''\n",
        "  )\n",
        "  parser.add_argument('input_file',\n",
        "                      help='''path to input Genbank file.''')\n",
        "  parser.add_argument('-f', '--fasta',\n",
        "                      default=False,\n",
        "                      action='store_const',\n",
        "                      const=True,\n",
        "                      help='''creates fasta from genbank file.''')\n",
        "  parser.add_argument('-p', '--prefix',\n",
        "                      default=False,\n",
        "                      help='''sequencing centre prefix.''')\n",
        "  parser.add_argument('-t', '--translation',\n",
        "                      default=False,\n",
        "                      action='store_const',\n",
        "                      const=True,\n",
        "                      help='''adds translation qualifier to CDS features in .tbl''')\n",
        "  parser.add_argument('-v','--version', action='version', version='%(prog)s 1.3 (October 28, 2017)')\n",
        "  return parser\n",
        "args = createParser()\n",
        "enter = args.parse_args()\n",
        "arguments = sys.argv[1:0]\n",
        "cwd = os.path.abspath(os.path.dirname(__file__))\n",
        "genbank_file = SeqIO.parse(enter.input_file, 'genbank')\n",
        "if enter.fasta != False:\n",
        "    if platform.system() == 'Windows':\n",
        "        fasta_name = enter.input_file[enter.input_file.rfind('\\\\'):enter.input_file.rfind('.')]\n",
        "        fasta_file = open('%s\\\\%s.fasta' % (cwd, fasta_name), 'w')\n",
        "    else:\n",
        "        fasta_name = enter.input_file[enter.input_file.rfind('/'):enter.input_file.rfind('.')]\n",
        "        fasta_file = open('%s/%s.fasta' % (cwd, fasta_name), 'w')\n",
        "    SeqIO.write(genbank_file, fasta_file, 'fasta')\n",
        "    genbank_file.close()\n",
        "    fasta_file.close()\n",
        "genbank_file = GenbankFile(path=enter.input_file)\n",
        "genbank_file.parse().count = -1\n",
        "genbank_file = SeqIO.parse(enter.input_file, 'genbank')\n",
        "for record in genbank_file:\n",
        "  print('>Feature %s' % record.id)\n",
        "  count += 1\n",
        "  genbank = GenbankFile(path=enter.input_file)\n",
        "  genbank.parse()\n",
        "  feature_type = str(feature.type)\n",
        "  qualifiers = ''\n",
        "  for pair in feature.qualifiers:\n",
        "    for key, value in pair.items():\n",
        "      if enter.translation == True and key == 'translation':\n",
        "        qualifiers += '\\n\\t\\t\\t%s\\t%s' % (key, value)\n",
        "        if key == 'protein_id':\n",
        "          if enter.prefix != False:\n",
        "            for find in feature.qualifiers:\n",
        "              for adkey, advalue in find.items():\n",
        "                if adkey == 'locus_tag':\n",
        "                  loci = advalue\n",
        "                  break\n",
        "                  qualifiers += '\\n\\t\\t\\t%s\\t%s' % (key, value)\n",
        "                  if key != 'protein_id' and key !='translation':\n",
        "                    qualifiers += '\\n\\t\\t\\t%s\\t%s' % (key, value)  \n",
        "                    print('%s\\t%s\\t%s\\t%s' % (start, end, feature_type, qualifiers))\n",
        "                    genbank_file.close()\n"
      ],
      "execution_count": 6,
      "outputs": [
        {
          "output_type": "error",
          "ename": "NameError",
          "evalue": "ignored",
          "traceback": [
            "\u001b[0;31m---------------------------------------------------------------------------\u001b[0m",
            "\u001b[0;31mNameError\u001b[0m                                 Traceback (most recent call last)",
            "\u001b[0;32m<ipython-input-6-44a0f6b1b34e>\u001b[0m in \u001b[0;36m<module>\u001b[0;34m()\u001b[0m\n\u001b[1;32m     33\u001b[0m \u001b[0menter\u001b[0m \u001b[0;34m=\u001b[0m \u001b[0margs\u001b[0m\u001b[0;34m.\u001b[0m\u001b[0mparse_args\u001b[0m\u001b[0;34m(\u001b[0m\u001b[0;34m)\u001b[0m\u001b[0;34m\u001b[0m\u001b[0;34m\u001b[0m\u001b[0m\n\u001b[1;32m     34\u001b[0m \u001b[0marguments\u001b[0m \u001b[0;34m=\u001b[0m \u001b[0msys\u001b[0m\u001b[0;34m.\u001b[0m\u001b[0margv\u001b[0m\u001b[0;34m[\u001b[0m\u001b[0;36m1\u001b[0m\u001b[0;34m:\u001b[0m\u001b[0;36m0\u001b[0m\u001b[0;34m]\u001b[0m\u001b[0;34m\u001b[0m\u001b[0;34m\u001b[0m\u001b[0m\n\u001b[0;32m---> 35\u001b[0;31m \u001b[0mcwd\u001b[0m \u001b[0;34m=\u001b[0m \u001b[0mos\u001b[0m\u001b[0;34m.\u001b[0m\u001b[0mpath\u001b[0m\u001b[0;34m.\u001b[0m\u001b[0mabspath\u001b[0m\u001b[0;34m(\u001b[0m\u001b[0mos\u001b[0m\u001b[0;34m.\u001b[0m\u001b[0mpath\u001b[0m\u001b[0;34m.\u001b[0m\u001b[0mdirname\u001b[0m\u001b[0;34m(\u001b[0m\u001b[0m__file__\u001b[0m\u001b[0;34m)\u001b[0m\u001b[0;34m)\u001b[0m\u001b[0;34m\u001b[0m\u001b[0;34m\u001b[0m\u001b[0m\n\u001b[0m\u001b[1;32m     36\u001b[0m \u001b[0mgenbank_file\u001b[0m \u001b[0;34m=\u001b[0m \u001b[0mSeqIO\u001b[0m\u001b[0;34m.\u001b[0m\u001b[0mparse\u001b[0m\u001b[0;34m(\u001b[0m\u001b[0menter\u001b[0m\u001b[0;34m.\u001b[0m\u001b[0minput_file\u001b[0m\u001b[0;34m,\u001b[0m \u001b[0;34m'genbank'\u001b[0m\u001b[0;34m)\u001b[0m\u001b[0;34m\u001b[0m\u001b[0;34m\u001b[0m\u001b[0m\n\u001b[1;32m     37\u001b[0m \u001b[0;32mif\u001b[0m \u001b[0menter\u001b[0m\u001b[0;34m.\u001b[0m\u001b[0mfasta\u001b[0m \u001b[0;34m!=\u001b[0m \u001b[0;32mFalse\u001b[0m\u001b[0;34m:\u001b[0m\u001b[0;34m\u001b[0m\u001b[0;34m\u001b[0m\u001b[0m\n",
            "\u001b[0;31mNameError\u001b[0m: name '__file__' is not defined"
          ]
        }
      ]
    }
  ]
}