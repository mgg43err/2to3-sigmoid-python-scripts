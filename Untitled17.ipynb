{
  "nbformat": 4,
  "nbformat_minor": 0,
  "metadata": {
    "colab": {
      "name": "Untitled17.ipynb",
      "provenance": []
    },
    "kernelspec": {
      "name": "python3",
      "display_name": "Python 3"
    }
  },
  "cells": [
    {
      "cell_type": "code",
      "metadata": {
        "id": "JkyOVR8wnMIS",
        "colab_type": "code",
        "outputId": "2fab8f94-1daf-4ece-8635-5480b05e8646",
        "colab": {
          "base_uri": "https://localhost:8080/",
          "height": 139
        }
      },
      "source": [
        "pip install biopython "
      ],
      "execution_count": 0,
      "outputs": [
        {
          "output_type": "stream",
          "text": [
            "Collecting biopython\n",
            "\u001b[?25l  Downloading https://files.pythonhosted.org/packages/ed/77/de3ba8f3d3015455f5df859c082729198ee6732deaeb4b87b9cfbfbaafe3/biopython-1.74-cp36-cp36m-manylinux1_x86_64.whl (2.2MB)\n",
            "\u001b[K     |████████████████████████████████| 2.2MB 3.4MB/s \n",
            "\u001b[?25hRequirement already satisfied: numpy in /usr/local/lib/python3.6/dist-packages (from biopython) (1.16.5)\n",
            "Installing collected packages: biopython\n",
            "Successfully installed biopython-1.74\n"
          ],
          "name": "stdout"
        }
      ]
    },
    {
      "cell_type": "code",
      "metadata": {
        "id": "w2LO9NCynN5Y",
        "colab_type": "code",
        "outputId": "4fc31d4b-752c-4c43-cfab-03fcd9c370fb",
        "colab": {
          "base_uri": "https://localhost:8080/",
          "height": 326
        }
      },
      "source": [
        "pip install geneparse\n"
      ],
      "execution_count": 0,
      "outputs": [
        {
          "output_type": "stream",
          "text": [
            "Collecting geneparse\n",
            "\u001b[?25l  Downloading https://files.pythonhosted.org/packages/1e/c5/6786995a67c20296cc6b86a3cc9ae31a177e01bbc4e80f7e87b6e9f9e748/geneparse-0.7.5-py3-none-any.whl (146kB)\n",
            "\r\u001b[K     |██▎                             | 10kB 17.2MB/s eta 0:00:01\r\u001b[K     |████▌                           | 20kB 2.2MB/s eta 0:00:01\r\u001b[K     |██████▊                         | 30kB 3.2MB/s eta 0:00:01\r\u001b[K     |█████████                       | 40kB 2.1MB/s eta 0:00:01\r\u001b[K     |███████████▏                    | 51kB 2.6MB/s eta 0:00:01\r\u001b[K     |█████████████▌                  | 61kB 3.1MB/s eta 0:00:01\r\u001b[K     |███████████████▊                | 71kB 3.6MB/s eta 0:00:01\r\u001b[K     |██████████████████              | 81kB 4.0MB/s eta 0:00:01\r\u001b[K     |████████████████████▏           | 92kB 4.5MB/s eta 0:00:01\r\u001b[K     |██████████████████████▍         | 102kB 3.5MB/s eta 0:00:01\r\u001b[K     |████████████████████████▊       | 112kB 3.5MB/s eta 0:00:01\r\u001b[K     |███████████████████████████     | 122kB 3.5MB/s eta 0:00:01\r\u001b[K     |█████████████████████████████▏  | 133kB 3.5MB/s eta 0:00:01\r\u001b[K     |███████████████████████████████▍| 143kB 3.5MB/s eta 0:00:01\r\u001b[K     |████████████████████████████████| 153kB 3.5MB/s \n",
            "\u001b[?25hRequirement already satisfied: biopython>=1.68 in /usr/local/lib/python3.6/dist-packages (from geneparse) (1.74)\n",
            "Requirement already satisfied: numpy>=1.11.0 in /usr/local/lib/python3.6/dist-packages (from geneparse) (1.16.5)\n",
            "Collecting pyplink>=1.3.4\n",
            "  Downloading https://files.pythonhosted.org/packages/3d/e6/d89a49dfead2e9fa0b96dc6122c0f60a03ffbe86e4d3bf29cc3e912e9e3f/pyplink-1.3.5-py2.py3-none-any.whl\n",
            "Requirement already satisfied: setuptools>=26.1.0 in /usr/local/lib/python3.6/dist-packages (from geneparse) (41.4.0)\n",
            "Collecting pybgen>=0.5.0\n",
            "\u001b[?25l  Downloading https://files.pythonhosted.org/packages/c0/24/d8e4512f171285d745fd69814368d7995b06af5e418917d473c9c39632c3/pybgen-0.6.0-py2.py3-none-any.whl (7.5MB)\n",
            "\u001b[K     |████████████████████████████████| 7.5MB 49.7MB/s \n",
            "\u001b[?25hRequirement already satisfied: pandas>=0.19.0 in /usr/local/lib/python3.6/dist-packages (from geneparse) (0.24.2)\n",
            "Requirement already satisfied: six>=1.9.0 in /usr/local/lib/python3.6/dist-packages (from pyplink>=1.3.4->geneparse) (1.12.0)\n",
            "Requirement already satisfied: python-dateutil>=2.5.0 in /usr/local/lib/python3.6/dist-packages (from pandas>=0.19.0->geneparse) (2.5.3)\n",
            "Requirement already satisfied: pytz>=2011k in /usr/local/lib/python3.6/dist-packages (from pandas>=0.19.0->geneparse) (2018.9)\n",
            "Installing collected packages: pyplink, pybgen, geneparse\n",
            "Successfully installed geneparse-0.7.5 pybgen-0.6.0 pyplink-1.3.5\n"
          ],
          "name": "stdout"
        }
      ]
    },
    {
      "cell_type": "code",
      "metadata": {
        "id": "eHYM1QE7nYBd",
        "colab_type": "code",
        "outputId": "dac92f2f-78f3-4504-dd70-e8345c2ca182",
        "colab": {
          "base_uri": "https://localhost:8080/",
          "height": 34
        }
      },
      "source": [
        "import Bio\n",
        "print(Bio.__version__)"
      ],
      "execution_count": 0,
      "outputs": [
        {
          "output_type": "stream",
          "text": [
            "1.74\n"
          ],
          "name": "stdout"
        }
      ]
    },
    {
      "cell_type": "code",
      "metadata": {
        "id": "Sa45CeZuncOs",
        "colab_type": "code",
        "colab": {}
      },
      "source": [
        "import sys\n",
        "from Bio import SeqIO\n",
        "SeqIO.convert(sys.stdin, \"embl\", sys.stdout, \"fasta\")"
      ],
      "execution_count": 0,
      "outputs": []
    },
    {
      "cell_type": "code",
      "metadata": {
        "id": "RDvEp0PerZ5Y",
        "colab_type": "code",
        "colab": {}
      },
      "source": [
        "enter = \"\""
      ],
      "execution_count": 0,
      "outputs": []
    },
    {
      "cell_type": "code",
      "metadata": {
        "id": "FXVf04ebscMt",
        "colab_type": "code",
        "outputId": "8e4d1140-c5cf-4cb9-bcaa-c1f1e591da70",
        "colab": {
          "base_uri": "https://localhost:8080/",
          "height": 129
        }
      },
      "source": [
        "import os, sys, platform\n",
        "import argparse\n",
        "from Bio import SeqIO\n",
        "from geneparse import *\n",
        "\n",
        "def createParser():\n",
        "\n",
        "    parser = argparse.ArgumentParser(\n",
        "             prog='Genbank to .tbl converter',\n",
        "             usage='\\n%(prog)s <input_file> [options]',\n",
        "             description = '''This script allows to convert genbank file into .tbl file format\n",
        "    Requires Biopython 1.64 (or newer). Use '>' (stdout) to create a .tbl file''',\n",
        "             epilog='''(c) Aliaksandr Damienikan, 2015.'''\n",
        "            )\n",
        "    parser.add_argument('input_file',\n",
        "                        help='''path to input Genbank file.''')\n",
        "    parser.add_argument('-f', '--fasta',\n",
        "                        default=False,\n",
        "                        action='store_const',\n",
        "                        const=True,\n",
        "                        help='''creates fasta from genbank file.''')\n",
        "    parser.add_argument('-p', '--prefix',\n",
        "                        default=False,\n",
        "                        help='''sequencing centre prefix.''')\n",
        "    parser.add_argument('-t', '--translation',\n",
        "                        default=False,\n",
        "                        action='store_const',\n",
        "                        const=True,\n",
        "                        help='''adds translation qualifier to CDS features in .tbl''')\n",
        "    parser.add_argument('-v','--version', action='version', version='%(prog)s 1.3 (October 28, 2017)')\n",
        "    return parser\n",
        "\n",
        "args = createParser()\n",
        "enter = args.parse_args()\n",
        "arguments = sys.argv[1:0]\n",
        "cwd = os.path.abspath(os.path.dirname(arguments))\n",
        "genbank_file = SeqIO.parse(enter.input_file, 'genbank')\n",
        "if enter.fasta != False:\n",
        "    if platform.system() == 'Windows':\n",
        "        fasta_name = enter.input_file[enter.input_file.rfind('\\\\'):enter.input_file.rfind('.')]\n",
        "        fasta_file = open('%s\\\\%s.fasta' % (cwd, fasta_name), 'w')\n",
        "    else:\n",
        "        fasta_name = enter.input_file[enter.input_file.rfind('/'):enter.input_file.rfind('.')]\n",
        "        fasta_file = open('%s/%s.fasta' % (cwd, fasta_name), 'w')\n",
        "    SeqIO.write(genbank_file, fasta_file, 'fasta')\n",
        "    genbank_file.close()\n",
        "    fasta_file.close()\n",
        "genbank_file = GenbankFile(path=enter.input_file)\n",
        "genbank_file.parse()\n",
        "count = -1\n",
        "genbank_file = SeqIO.parse(enter.input_file, 'genbank')\n",
        "for record in genbank_file:\n",
        "    print '>Feature %s' % record.id\n",
        "    count += 1\n",
        "    genbank = GenbankFile(path=enter.input_file)\n",
        "    genbank.parse()\n",
        "    for feature in genbank.records[count]:\n",
        "        if feature.type != 'source':\n",
        "            if feature.strand == 1:\n",
        "                start = feature.location[0]\n",
        "                end = feature.location[1]\n",
        "\n",
        "            elif feature.strand == -1:\n",
        "                start = feature.location[1]\n",
        "                end = feature.location[0]\n",
        "            feature_type = str(feature.type)\n",
        "            qualifiers = ''\n",
        "            for pair in feature.qualifiers:\n",
        "                for key, value in pair.iteritems():\n",
        "                    if enter.translation == True and key == 'translation':\n",
        "                        qualifiers += '\\n\\t\\t\\t%s\\t%s' % (key, value)\n",
        "                    if key == 'protein_id':\n",
        "                        if enter.prefix != False:\n",
        "                            for find in feature.qualifiers:\n",
        "                                for adkey, advalue in find.iteritems():\n",
        "                                    if adkey == 'locus_tag':\n",
        "                                        loci = advalue\n",
        "                                        break\n",
        "                                    break\n",
        "                            qualifiers += '\\n\\t\\t\\t%s\\t%s' % (key, 'gnl|'+enter.prefix+'|'+loci)\n",
        "                        else:\n",
        "                            qualifiers += '\\n\\t\\t\\t%s\\t%s' % (key, value)    \n",
        "                    if key != 'protein_id' and key !='translation':\n",
        "                        qualifiers += '\\n\\t\\t\\t%s\\t%s' % (key, value)  \n",
        "            print '%s\\t%s\\t%s\\t%s' % (start, end, feature_type, qualifiers)\n",
        "genbank_file.close()"
      ],
      "execution_count": 0,
      "outputs": [
        {
          "output_type": "error",
          "ename": "SyntaxError",
          "evalue": "ignored",
          "traceback": [
            "\u001b[0;36m  File \u001b[0;32m\"<ipython-input-29-1a492225c51c>\"\u001b[0;36m, line \u001b[0;32m53\u001b[0m\n\u001b[0;31m    print '>Feature %s' % record.id\u001b[0m\n\u001b[0m                      ^\u001b[0m\n\u001b[0;31mSyntaxError\u001b[0m\u001b[0;31m:\u001b[0m Missing parentheses in call to 'print'. Did you mean print('>Feature %s' % record.id)?\n"
          ]
        }
      ]
    },
    {
      "cell_type": "code",
      "metadata": {
        "id": "9CpoYCl2oWJR",
        "colab_type": "code",
        "outputId": "3ff78f22-0f7b-493a-9c0e-e31aa259301e",
        "colab": {
          "base_uri": "https://localhost:8080/",
          "height": 231
        }
      },
      "source": [
        "\n",
        "import os, sys, platform\n",
        "import os.path\n",
        "import argparse\n",
        "from Bio import SeqIO\n",
        "from geneparse import *\n",
        "def createParser():\n",
        "  parser = argparse.ArgumentParser(\n",
        "      prog='Genbank to .tbl converter',\n",
        "      usage='\\n%(prog)s <input_file> [options]',\n",
        "      description = '''This script allows to convert genbank file into .tbl file format\n",
        "      Requires Biopython 1.64 (or newer). Use '>' (stdout) to create a .tbl file''',\n",
        "      epilog='''(c) Aliaksandr Damienikan, 2015.'''\n",
        "  )\n",
        "  parser.add_argument('input_file',\n",
        "                      help='''path to input Genbank file.''')\n",
        "  parser.add_argument('-f', '--fasta',\n",
        "                      default=False,\n",
        "                      action='store_const',\n",
        "                      const=True,\n",
        "                      help='''creates fasta from genbank file.''')\n",
        "  parser.add_argument('-p', '--prefix',\n",
        "                      default=False,\n",
        "                      help='''sequencing centre prefix.''')\n",
        "  parser.add_argument('-t', '--translation',\n",
        "                      default=False,\n",
        "                      action='store_const',\n",
        "                      const=True,\n",
        "                      help='''adds translation qualifier to CDS features in .tbl''')\n",
        "  parser.add_argument('-v','--version', action='version', version='%(prog)s 1.3 (October 28, 2017)')\n",
        "  return parser\n",
        "args = createParser()\n",
        "enter = args.parse_args()\n",
        "arguments = sys.argv[1:0]\n",
        "cwd = os.path.abspath(os.path.dirname(sys.argv[0]))\n",
        "genbank_file = SeqIO.parse(enter.input_file, 'genbank')\n",
        "if enter.fasta != False:\n",
        "    if platform.system() == 'Windows':\n",
        "        fasta_name = enter.input_file[enter.input_file.rfind('\\\\'):enter.input_file.rfind('.')]\n",
        "        fasta_file = open('%s\\\\%s.fasta' % (cwd, fasta_name), 'w')\n",
        "    else:\n",
        "        fasta_name = enter.input_file[enter.input_file.rfind('/'):enter.input_file.rfind('.')]\n",
        "        fasta_file = open('%s/%s.fasta' % (cwd, fasta_name), 'w')\n",
        "    SeqIO.write(genbank_file, fasta_file, 'fasta')\n",
        "    genbank_file.close()\n",
        "    fasta_file.close()\n",
        "genbank_file = GenbankFile(path=enter.input_file)\n",
        "genbank_file.parse().count = -1\n",
        "genbank_file = SeqIO.parse(enter.input_file, 'genbank')\n",
        "for record in genbank_file:\n",
        "  print('>Feature %s' % record.id)\n",
        "  count += 1\n",
        "  genbank = GenbankFile(path=enter.input_file)\n",
        "  genbank.parse()\n",
        "  feature_type = str(feature.type)\n",
        "  qualifiers = ''\n",
        "  for pair in feature.qualifiers:\n",
        "    for key, value in pair.items():\n",
        "      if enter.translation == True and key == 'translation':\n",
        "        qualifiers += '\\n\\t\\t\\t%s\\t%s' % (key, value)\n",
        "        if key == 'protein_id':\n",
        "          if enter.prefix != False:\n",
        "            for find in feature.qualifiers:\n",
        "              for adkey, advalue in find.items():\n",
        "                if adkey == 'locus_tag':\n",
        "                  loci = advalue\n",
        "                  break\n",
        "                  qualifiers += '\\n\\t\\t\\t%s\\t%s' % (key, value)\n",
        "                  if key != 'protein_id' and key !='translation':\n",
        "                    qualifiers += '\\n\\t\\t\\t%s\\t%s' % (key, value)  \n",
        "                    print('%s\\t%s\\t%s\\t%s' % (start, end, feature_type, qualifiers))\n",
        "                    genbank_file.close()\n"
      ],
      "execution_count": 0,
      "outputs": [
        {
          "output_type": "error",
          "ename": "NameError",
          "evalue": "ignored",
          "traceback": [
            "\u001b[0;31m---------------------------------------------------------------------------\u001b[0m",
            "\u001b[0;31mNameError\u001b[0m                                 Traceback (most recent call last)",
            "\u001b[0;32m<ipython-input-30-6a89d4334c49>\u001b[0m in \u001b[0;36m<module>\u001b[0;34m()\u001b[0m\n\u001b[1;32m     45\u001b[0m     \u001b[0mgenbank_file\u001b[0m\u001b[0;34m.\u001b[0m\u001b[0mclose\u001b[0m\u001b[0;34m(\u001b[0m\u001b[0;34m)\u001b[0m\u001b[0;34m\u001b[0m\u001b[0;34m\u001b[0m\u001b[0m\n\u001b[1;32m     46\u001b[0m     \u001b[0mfasta_file\u001b[0m\u001b[0;34m.\u001b[0m\u001b[0mclose\u001b[0m\u001b[0;34m(\u001b[0m\u001b[0;34m)\u001b[0m\u001b[0;34m\u001b[0m\u001b[0;34m\u001b[0m\u001b[0m\n\u001b[0;32m---> 47\u001b[0;31m \u001b[0mgenbank_file\u001b[0m \u001b[0;34m=\u001b[0m \u001b[0mGenbankFile\u001b[0m\u001b[0;34m(\u001b[0m\u001b[0mpath\u001b[0m\u001b[0;34m=\u001b[0m\u001b[0menter\u001b[0m\u001b[0;34m.\u001b[0m\u001b[0minput_file\u001b[0m\u001b[0;34m)\u001b[0m\u001b[0;34m\u001b[0m\u001b[0;34m\u001b[0m\u001b[0m\n\u001b[0m\u001b[1;32m     48\u001b[0m \u001b[0mgenbank_file\u001b[0m\u001b[0;34m.\u001b[0m\u001b[0mparse\u001b[0m\u001b[0;34m(\u001b[0m\u001b[0;34m)\u001b[0m\u001b[0;34m.\u001b[0m\u001b[0mcount\u001b[0m \u001b[0;34m=\u001b[0m \u001b[0;34m-\u001b[0m\u001b[0;36m1\u001b[0m\u001b[0;34m\u001b[0m\u001b[0;34m\u001b[0m\u001b[0m\n\u001b[1;32m     49\u001b[0m \u001b[0mgenbank_file\u001b[0m \u001b[0;34m=\u001b[0m \u001b[0mSeqIO\u001b[0m\u001b[0;34m.\u001b[0m\u001b[0mparse\u001b[0m\u001b[0;34m(\u001b[0m\u001b[0menter\u001b[0m\u001b[0;34m.\u001b[0m\u001b[0minput_file\u001b[0m\u001b[0;34m,\u001b[0m \u001b[0;34m'genbank'\u001b[0m\u001b[0;34m)\u001b[0m\u001b[0;34m\u001b[0m\u001b[0;34m\u001b[0m\u001b[0m\n",
            "\u001b[0;31mNameError\u001b[0m: name 'GenbankFile' is not defined"
          ]
        }
      ]
    }
  ]
}